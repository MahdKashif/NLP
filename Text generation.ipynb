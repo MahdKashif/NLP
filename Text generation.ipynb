{
  "nbformat": 4,
  "nbformat_minor": 0,
  "metadata": {
    "colab": {
      "provenance": []
    },
    "kernelspec": {
      "name": "python3",
      "display_name": "Python 3"
    },
    "language_info": {
      "name": "python"
    }
  },
  "cells": [
    {
      "cell_type": "code",
      "execution_count": 3,
      "metadata": {
        "colab": {
          "base_uri": "https://localhost:8080/",
          "height": 87
        },
        "id": "bAtH7wJrab6Z",
        "outputId": "a7b75edb-8517-4553-8748-9ed47bc54dcd"
      },
      "outputs": [
        {
          "output_type": "stream",
          "name": "stdout",
          "text": [
            "Simplified Concept:\n"
          ]
        },
        {
          "output_type": "execute_result",
          "data": {
            "text/plain": [
              "'Blockchain is a distributed ledger technology that underlies cryptocurrencies like Bitcoin.  In the past, blockchain technology has been used as a means of verifying transactions. However, in recent years, it has become more and more difficult to verify transactions on the blockchain. In this article, we will look at some of the most common problems that can arise when using a blockchain based on Bitcoin and how to solve them.'"
            ],
            "application/vnd.google.colaboratory.intrinsic+json": {
              "type": "string"
            }
          },
          "metadata": {},
          "execution_count": 3
        }
      ],
      "source": [
        "import torch\n",
        "from transformers import GPT2Tokenizer, GPT2LMHeadModel\n",
        "\n",
        "# Load pretrained model and tokenizer\n",
        "tokenizer = GPT2Tokenizer.from_pretrained('gpt2')\n",
        "model = GPT2LMHeadModel.from_pretrained('gpt2')\n",
        "\n",
        "def simplify_text(input_text):\n",
        "    inputs = tokenizer.encode(input_text, return_tensors='pt')\n",
        "\n",
        "    # Set pad_token_id to eos_token_id to avoid unnecessary warnings\n",
        "    outputs = model.generate(\n",
        "        inputs,\n",
        "        max_length=150,\n",
        "        num_return_sequences=1,\n",
        "        no_repeat_ngram_size=2,\n",
        "        num_beams=5,\n",
        "        early_stopping=True,\n",
        "        pad_token_id=tokenizer.eos_token_id\n",
        "    )\n",
        "\n",
        "    # Decode and clean up the output\n",
        "    simplified_text = tokenizer.decode(outputs[0], skip_special_tokens=True).replace(\"\\n\", \" \")\n",
        "    return simplified_text\n",
        "\n",
        "# Example\n",
        "complex_concept = \"Blockchain is a distributed ledger technology that underlies cryptocurrencies like Bitcoin.\"\n",
        "\n",
        "# Simplification\n",
        "simplified_concept = simplify_text(complex_concept)\n",
        "print(\"Simplified Concept:\")\n",
        "simplified_concept\n"
      ]
    },
    {
      "cell_type": "code",
      "source": [
        "complex_concept_2 = \"Gravity is the force that attracts objects with mass towards each other.\"\n",
        "simplified_concept_2 = simplify_text(complex_concept_2)\n",
        "print(\"Simplified Concept:\")\n",
        "simplified_concept_2"
      ],
      "metadata": {
        "colab": {
          "base_uri": "https://localhost:8080/",
          "height": 122
        },
        "id": "GiGOG9fbGBln",
        "outputId": "6eb79eb9-e01f-4c63-dcf4-e431320c130a"
      },
      "execution_count": 4,
      "outputs": [
        {
          "output_type": "stream",
          "name": "stdout",
          "text": [
            "Simplified Concept:\n"
          ]
        },
        {
          "output_type": "execute_result",
          "data": {
            "text/plain": [
              "'Gravity is the force that attracts objects with mass towards each other. This force is called gravitational attraction.  The gravitational force of gravity is proportional to the mass of the object. For example, if you have an object with a mass that is 1.5 times that of a human being, you will have a gravitational effect on it. If you want to be able to move your body around in a straight line, then you need to use gravity to do that. Gravity is also called the gravitational pull, and it is a measure of how much force you can exert on a given object to pull it in the right direction. It is important to note that gravity can also be used to measure the speed of light, as well as how fast'"
            ],
            "application/vnd.google.colaboratory.intrinsic+json": {
              "type": "string"
            }
          },
          "metadata": {},
          "execution_count": 4
        }
      ]
    },
    {
      "cell_type": "code",
      "source": [
        "# Example\n",
        "complex_concept3 = \"Quantum mechanics is a branch of physics that deals with the behavior of particles at very small scales.\"\n",
        "simplified_concept3 = simplify_text(complex_concept3)\n",
        "print(\"Simplified Concept:\")\n",
        "simplified_concept3"
      ],
      "metadata": {
        "colab": {
          "base_uri": "https://localhost:8080/",
          "height": 87
        },
        "id": "yjDxU5_iCBJ9",
        "outputId": "292d01d8-410a-4027-fbec-e9fe147099fd"
      },
      "execution_count": 5,
      "outputs": [
        {
          "output_type": "stream",
          "name": "stdout",
          "text": [
            "Simplified Concept:\n"
          ]
        },
        {
          "output_type": "execute_result",
          "data": {
            "text/plain": [
              "'Quantum mechanics is a branch of physics that deals with the behavior of particles at very small scales.  In this paper, we show that quantum mechanics can be used to explain the properties of quantum particles. We also show how the quantum state of a particle can change over time, and how this can lead to new insights into the nature of matter and matter-energy interactions.'"
            ],
            "application/vnd.google.colaboratory.intrinsic+json": {
              "type": "string"
            }
          },
          "metadata": {},
          "execution_count": 5
        }
      ]
    },
    {
      "cell_type": "code",
      "source": [
        "# Example\n",
        "complex_concept4=\"Artificial intelligence refers to the development of computer systems that can perform tasks that normally require human intelligence.\"\n",
        "simplified_concept4 = simplify_text(complex_concept4)\n",
        "print(\"Simplified Concept:\")\n",
        "simplified_concept4"
      ],
      "metadata": {
        "colab": {
          "base_uri": "https://localhost:8080/",
          "height": 122
        },
        "id": "9oqB90DyCQna",
        "outputId": "fbc7446d-0fd0-48d7-a59b-46890f87a6e6"
      },
      "execution_count": 6,
      "outputs": [
        {
          "output_type": "stream",
          "name": "stdout",
          "text": [
            "Simplified Concept:\n"
          ]
        },
        {
          "output_type": "execute_result",
          "data": {
            "text/plain": [
              "\"Artificial intelligence refers to the development of computer systems that can perform tasks that normally require human intelligence. For example, a computer program can be programmed to perform a task that requires a human brain.  In addition, artificial intelligence can also be used to improve the quality of life of people. In a study published in the journal Proceedings of the National Academy of Sciences, researchers from the University of California, San Diego, and Stanford University found that people who were more likely to be diagnosed with Alzheimer's disease (AD) had higher levels of cognitive ability than those who had never been diagnosed. The researchers said that these findings could help to reduce the risk of dementia in people with AD.\""
            ],
            "application/vnd.google.colaboratory.intrinsic+json": {
              "type": "string"
            }
          },
          "metadata": {},
          "execution_count": 6
        }
      ]
    },
    {
      "cell_type": "code",
      "source": [
        "# Example 4: Genetic Engineering\n",
        "complex_concept_6 = \"Genetic engineering involves manipulating an organism's genetic material to modify its characteristics. \"\n",
        "simplified_concept6 = simplify_text(complex_concept_6)\n",
        "print(\"Simplified Concept:\")\n",
        "simplified_concept6"
      ],
      "metadata": {
        "colab": {
          "base_uri": "https://localhost:8080/",
          "height": 122
        },
        "id": "HsUan4KQDg6Q",
        "outputId": "c056ed09-5635-4cd5-a410-499f7eb3615d"
      },
      "execution_count": 7,
      "outputs": [
        {
          "output_type": "stream",
          "name": "stdout",
          "text": [
            "Simplified Concept:\n"
          ]
        },
        {
          "output_type": "execute_result",
          "data": {
            "text/plain": [
              "\"Genetic engineering involves manipulating an organism's genetic material to modify its characteristics. \\xa0This can be done in a variety of ways, but the most common method is genetic engineering, which involves modifying the DNA of a living organism to make it more or less the same as the organism it is designed to live in. This is done by inserting a gene into a cell's nucleus, and then injecting it into the nucleus of the cell to create a new cell. In this way, the cells are made up of different types of cells, each of which has its own unique characteristics and functions. For example, if you have a certain type of cancer, you may be able to alter the genetic makeup of that cancer by altering its DNA. However, this\""
            ],
            "application/vnd.google.colaboratory.intrinsic+json": {
              "type": "string"
            }
          },
          "metadata": {},
          "execution_count": 7
        }
      ]
    },
    {
      "cell_type": "code",
      "source": [
        "# Example 5: Internet of Things (IoT)\n",
        "complex_concept_7 = \"The Internet of Things refers to a network of physical objects embedded to collect and exchange data.\"\n",
        "simplified_concept_7 = simplify_text(complex_concept_7)\n",
        "print(\"Simplified Concept:\")\n",
        "simplified_concept_7"
      ],
      "metadata": {
        "colab": {
          "base_uri": "https://localhost:8080/",
          "height": 87
        },
        "id": "qfrfdRvNBjIp",
        "outputId": "c4c45bd2-66d7-4e97-ba4b-7986d36f0546"
      },
      "execution_count": 8,
      "outputs": [
        {
          "output_type": "stream",
          "name": "stdout",
          "text": [
            "Simplified Concept:\n"
          ]
        },
        {
          "output_type": "execute_result",
          "data": {
            "text/plain": [
              "'The Internet of Things refers to a network of physical objects embedded to collect and exchange data. These objects are called \"things\" and are connected to the Internet through a computer network.  In this article, we will look at how to create a virtual reality headset that can be used to interact with the world around you. We will also show you how you can use the Oculus Rift headset to play video games, watch movies, and more.'"
            ],
            "application/vnd.google.colaboratory.intrinsic+json": {
              "type": "string"
            }
          },
          "metadata": {},
          "execution_count": 8
        }
      ]
    }
  ]
}