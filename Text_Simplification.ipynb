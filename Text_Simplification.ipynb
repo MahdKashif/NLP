{
  "nbformat": 4,
  "nbformat_minor": 0,
  "metadata": {
    "colab": {
      "provenance": []
    },
    "kernelspec": {
      "name": "python3",
      "display_name": "Python 3"
    },
    "language_info": {
      "name": "python"
    }
  },
  "cells": [
    {
      "cell_type": "code",
      "execution_count": 55,
      "metadata": {
        "colab": {
          "base_uri": "https://localhost:8080/"
        },
        "id": "bAtH7wJrab6Z",
        "outputId": "dfb9cf1b-6319-4ff9-fb55-dc694cd944e4"
      },
      "outputs": [
        {
          "output_type": "stream",
          "name": "stderr",
          "text": [
            "The attention mask and the pad token id were not set. As a consequence, you may observe unexpected behavior. Please pass your input's `attention_mask` to obtain reliable results.\n",
            "Setting `pad_token_id` to `eos_token_id`:50256 for open-end generation.\n"
          ]
        },
        {
          "output_type": "stream",
          "name": "stdout",
          "text": [
            "Simplified Concept: Blockchain is a distributed ledger technology that underlies cryptocurrencies like Bitcoin. It is a decentralized database managed by multiple participants, known as nodes. Each transaction is recorded in a block, which is then linked to the previous block, forming a chain. This ensures data integrity and transparency, as the blockchain is immutable and every participant has access to the entire history of transactions.\n",
            "\n",
            "Blockchains can be used to store information, such as credit card numbers, addresses, and other personal information. They are also used as a way to protect against fraud. In the case of Bitcoin, for example, a person can use a Bitcoin address to buy and sell goods and services on the Internet, but they can also use it to send money to a third party.\n"
          ]
        }
      ],
      "source": [
        "import torch\n",
        "from transformers import GPT2Tokenizer, GPT2LMHeadModel\n",
        "\n",
        "#pretrained model and tokenizer\n",
        "tokenizer = GPT2Tokenizer.from_pretrained('gpt2')\n",
        "model = GPT2LMHeadModel.from_pretrained('gpt2')\n",
        "\n",
        "def simplify_text(input_text):\n",
        "    inputs = tokenizer.encode(input_text, return_tensors='pt')\n",
        "\n",
        "    outputs = model.generate(inputs, max_length=150, num_return_sequences=1, no_repeat_ngram_size=2,\n",
        "                             num_beams=5, early_stopping=True)\n",
        "\n",
        "    # Decode\n",
        "    simplified_text = tokenizer.decode(outputs[0], skip_special_tokens=True)\n",
        "    return simplified_text\n",
        "\n",
        "# Example\n",
        "complex_concept = \"Blockchain is a distributed ledger technology that underlies cryptocurrencies like Bitcoin. It is a decentralized database managed by multiple participants, known as nodes. Each transaction is recorded in a block, which is then linked to the previous block, forming a chain. This ensures data integrity and transparency, as the blockchain is immutable and every participant has access to the entire history of transactions.\"\n",
        "\n",
        "# Simplification\n",
        "simplified_concept = simplify_text(complex_concept)\n",
        "print(\"Simplified Concept:\", simplified_concept)\n"
      ]
    },
    {
      "cell_type": "markdown",
      "source": [
        "**This is same thing being done by creating a pipeline**"
      ],
      "metadata": {
        "id": "h4WRoIXywBqL"
      }
    },
    {
      "cell_type": "code",
      "source": [
        "from transformers import pipeline, GPT2Tokenizer, GPT2LMHeadModel\n",
        "\n",
        "#pretrained model and tokenizer\n",
        "tokenizer = GPT2Tokenizer.from_pretrained('gpt2')\n",
        "model = GPT2LMHeadModel.from_pretrained('gpt2')\n",
        "\n",
        "#pipeline\n",
        "text_generation_pipeline = pipeline('text-generation', model=model, tokenizer=tokenizer)\n",
        "\n",
        "def simplify_text(input_text):\n",
        "    outputs = text_generation_pipeline(input_text, max_length=150, num_return_sequences=1, no_repeat_ngram_size=2, num_beams=5, early_stopping=True)\n",
        "\n",
        "    simplified_text = outputs[0]['generated_text'].strip()\n",
        "    return simplified_text\n",
        "\n",
        "# Example\n",
        "complex_concept = \"Blockchain is a distributed ledger technology that underlies cryptocurrencies like Bitcoin. It is a decentralized database managed by multiple participants, known as nodes. Each transaction is recorded in a block, which is then linked to the previous block, forming a chain. This ensures data integrity and transparency, as the blockchain is immutable and every participant has access to the entire history of transactions.\"\n",
        "\n",
        "simplified_concept = simplify_text(complex_concept)\n",
        "print(\"Simplified Concept:\", simplified_concept)\n"
      ],
      "metadata": {
        "colab": {
          "base_uri": "https://localhost:8080/"
        },
        "id": "xjoytmwznEjC",
        "outputId": "2d26167f-dfb7-40d4-80e3-8f2bb03e6095"
      },
      "execution_count": 26,
      "outputs": [
        {
          "output_type": "stream",
          "name": "stderr",
          "text": [
            "Truncation was not explicitly activated but `max_length` is provided a specific value, please use `truncation=True` to explicitly truncate examples to max length. Defaulting to 'longest_first' truncation strategy. If you encode pairs of sequences (GLUE-style) with the tokenizer you can select this strategy more precisely by providing a specific strategy to `truncation`.\n",
            "Setting `pad_token_id` to `eos_token_id`:50256 for open-end generation.\n"
          ]
        },
        {
          "output_type": "stream",
          "name": "stdout",
          "text": [
            "Simplified Concept: Blockchain is a distributed ledger technology that underlies cryptocurrencies like Bitcoin. It is a decentralized database managed by multiple participants, known as nodes. Each transaction is recorded in a block, which is then linked to the previous block, forming a chain. This ensures data integrity and transparency, as the blockchain is immutable and every participant has access to the entire history of transactions.\n",
            "\n",
            "Blockchains are used in many industries such as banking, insurance, and financial services. They are also used by governments and other organizations to store and track information. Blockchain technology has also been used to make it easier for businesses to create and manage their own digital assets. These assets are called \"blockchains\" or \"decentralized smart contracts\" (DApps).\n"
          ]
        }
      ]
    },
    {
      "cell_type": "markdown",
      "source": [
        "**For flowchart**"
      ],
      "metadata": {
        "id": "BE9Y6lqcwNRY"
      }
    },
    {
      "cell_type": "code",
      "source": [
        "!pip install graphviz\n"
      ],
      "metadata": {
        "colab": {
          "base_uri": "https://localhost:8080/"
        },
        "id": "47LEtV2eeS1U",
        "outputId": "bd444898-bc33-481e-d3bf-be1e54b16578"
      },
      "execution_count": 12,
      "outputs": [
        {
          "output_type": "stream",
          "name": "stdout",
          "text": [
            "Requirement already satisfied: graphviz in /usr/local/lib/python3.10/dist-packages (0.20.3)\n"
          ]
        }
      ]
    },
    {
      "cell_type": "code",
      "source": [
        "from graphviz import Digraph\n",
        "\n",
        "# Create a new directed graph\n",
        "flowchart = Digraph('Flowchart', format='png')\n",
        "\n",
        "# Add nodes\n",
        "flowchart.node('A', 'Load Pretrained Model & Tokenizer')\n",
        "flowchart.node('B', 'Define Simplification Function')\n",
        "flowchart.node('C', 'Encode Input Text')\n",
        "flowchart.node('D', 'Generate Output Text')\n",
        "flowchart.node('E', 'Decode and Return Simplified Text')\n",
        "flowchart.node('F', 'Simplify Example Text & Print Output')\n",
        "\n",
        "# Add edges\n",
        "flowchart.edge('A', 'B')\n",
        "flowchart.edge('B', 'C')\n",
        "flowchart.edge('C', 'D')\n",
        "flowchart.edge('D', 'E')\n",
        "flowchart.edge('E', 'F')\n",
        "\n",
        "# Render and view the flowchart\n",
        "flowchart.render('flowchart', view=True)\n"
      ],
      "metadata": {
        "colab": {
          "base_uri": "https://localhost:8080/",
          "height": 35
        },
        "id": "ukkHdO0kd5mw",
        "outputId": "72832605-9214-4199-9012-6430ae6e180e"
      },
      "execution_count": 13,
      "outputs": [
        {
          "output_type": "execute_result",
          "data": {
            "text/plain": [
              "'flowchart.png'"
            ],
            "application/vnd.google.colaboratory.intrinsic+json": {
              "type": "string"
            }
          },
          "metadata": {},
          "execution_count": 13
        }
      ]
    },
    {
      "cell_type": "code",
      "source": [
        "flowchart"
      ],
      "metadata": {
        "colab": {
          "base_uri": "https://localhost:8080/",
          "height": 560
        },
        "id": "hwtmYHE4wWJI",
        "outputId": "6073f15f-c27b-47be-8b4e-b6abd74c0857"
      },
      "execution_count": 58,
      "outputs": [
        {
          "output_type": "execute_result",
          "data": {
            "image/svg+xml": "<?xml version=\"1.0\" encoding=\"UTF-8\" standalone=\"no\"?>\n<!DOCTYPE svg PUBLIC \"-//W3C//DTD SVG 1.1//EN\"\n \"http://www.w3.org/Graphics/SVG/1.1/DTD/svg11.dtd\">\n<!-- Generated by graphviz version 2.43.0 (0)\n -->\n<!-- Title: Flowchart Pages: 1 -->\n<svg width=\"307pt\" height=\"404pt\"\n viewBox=\"0.00 0.00 306.97 404.00\" xmlns=\"http://www.w3.org/2000/svg\" xmlns:xlink=\"http://www.w3.org/1999/xlink\">\n<g id=\"graph0\" class=\"graph\" transform=\"scale(1 1) rotate(0) translate(4 400)\">\n<title>Flowchart</title>\n<polygon fill=\"white\" stroke=\"transparent\" points=\"-4,4 -4,-400 302.97,-400 302.97,4 -4,4\"/>\n<!-- A -->\n<g id=\"node1\" class=\"node\">\n<title>A</title>\n<ellipse fill=\"none\" stroke=\"black\" cx=\"149.49\" cy=\"-378\" rx=\"139.98\" ry=\"18\"/>\n<text text-anchor=\"middle\" x=\"149.49\" y=\"-374.3\" font-family=\"Times,serif\" font-size=\"14.00\">Load Pretrained Model &amp; Tokenizer</text>\n</g>\n<!-- B -->\n<g id=\"node2\" class=\"node\">\n<title>B</title>\n<ellipse fill=\"none\" stroke=\"black\" cx=\"149.49\" cy=\"-306\" rx=\"121.58\" ry=\"18\"/>\n<text text-anchor=\"middle\" x=\"149.49\" y=\"-302.3\" font-family=\"Times,serif\" font-size=\"14.00\">Define Simplification Function</text>\n</g>\n<!-- A&#45;&gt;B -->\n<g id=\"edge1\" class=\"edge\">\n<title>A&#45;&gt;B</title>\n<path fill=\"none\" stroke=\"black\" d=\"M149.49,-359.7C149.49,-351.98 149.49,-342.71 149.49,-334.11\"/>\n<polygon fill=\"black\" stroke=\"black\" points=\"152.99,-334.1 149.49,-324.1 145.99,-334.1 152.99,-334.1\"/>\n</g>\n<!-- C -->\n<g id=\"node3\" class=\"node\">\n<title>C</title>\n<ellipse fill=\"none\" stroke=\"black\" cx=\"149.49\" cy=\"-234\" rx=\"75.29\" ry=\"18\"/>\n<text text-anchor=\"middle\" x=\"149.49\" y=\"-230.3\" font-family=\"Times,serif\" font-size=\"14.00\">Encode Input Text</text>\n</g>\n<!-- B&#45;&gt;C -->\n<g id=\"edge2\" class=\"edge\">\n<title>B&#45;&gt;C</title>\n<path fill=\"none\" stroke=\"black\" d=\"M149.49,-287.7C149.49,-279.98 149.49,-270.71 149.49,-262.11\"/>\n<polygon fill=\"black\" stroke=\"black\" points=\"152.99,-262.1 149.49,-252.1 145.99,-262.1 152.99,-262.1\"/>\n</g>\n<!-- D -->\n<g id=\"node4\" class=\"node\">\n<title>D</title>\n<ellipse fill=\"none\" stroke=\"black\" cx=\"149.49\" cy=\"-162\" rx=\"87.18\" ry=\"18\"/>\n<text text-anchor=\"middle\" x=\"149.49\" y=\"-158.3\" font-family=\"Times,serif\" font-size=\"14.00\">Generate Output Text</text>\n</g>\n<!-- C&#45;&gt;D -->\n<g id=\"edge3\" class=\"edge\">\n<title>C&#45;&gt;D</title>\n<path fill=\"none\" stroke=\"black\" d=\"M149.49,-215.7C149.49,-207.98 149.49,-198.71 149.49,-190.11\"/>\n<polygon fill=\"black\" stroke=\"black\" points=\"152.99,-190.1 149.49,-180.1 145.99,-190.1 152.99,-190.1\"/>\n</g>\n<!-- E -->\n<g id=\"node5\" class=\"node\">\n<title>E</title>\n<ellipse fill=\"none\" stroke=\"black\" cx=\"149.49\" cy=\"-90\" rx=\"136.48\" ry=\"18\"/>\n<text text-anchor=\"middle\" x=\"149.49\" y=\"-86.3\" font-family=\"Times,serif\" font-size=\"14.00\">Decode and Return Simplified Text</text>\n</g>\n<!-- D&#45;&gt;E -->\n<g id=\"edge4\" class=\"edge\">\n<title>D&#45;&gt;E</title>\n<path fill=\"none\" stroke=\"black\" d=\"M149.49,-143.7C149.49,-135.98 149.49,-126.71 149.49,-118.11\"/>\n<polygon fill=\"black\" stroke=\"black\" points=\"152.99,-118.1 149.49,-108.1 145.99,-118.1 152.99,-118.1\"/>\n</g>\n<!-- F -->\n<g id=\"node6\" class=\"node\">\n<title>F</title>\n<ellipse fill=\"none\" stroke=\"black\" cx=\"149.49\" cy=\"-18\" rx=\"149.47\" ry=\"18\"/>\n<text text-anchor=\"middle\" x=\"149.49\" y=\"-14.3\" font-family=\"Times,serif\" font-size=\"14.00\">Simplify Example Text &amp; Print Output</text>\n</g>\n<!-- E&#45;&gt;F -->\n<g id=\"edge5\" class=\"edge\">\n<title>E&#45;&gt;F</title>\n<path fill=\"none\" stroke=\"black\" d=\"M149.49,-71.7C149.49,-63.98 149.49,-54.71 149.49,-46.11\"/>\n<polygon fill=\"black\" stroke=\"black\" points=\"152.99,-46.1 149.49,-36.1 145.99,-46.1 152.99,-46.1\"/>\n</g>\n</g>\n</svg>\n",
            "text/plain": [
              "<graphviz.graphs.Digraph at 0x7e1b8d44e500>"
            ]
          },
          "metadata": {},
          "execution_count": 58
        }
      ]
    }
  ]
}