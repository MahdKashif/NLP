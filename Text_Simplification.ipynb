{
  "nbformat": 4,
  "nbformat_minor": 0,
  "metadata": {
    "colab": {
      "provenance": []
    },
    "kernelspec": {
      "name": "python3",
      "display_name": "Python 3"
    },
    "language_info": {
      "name": "python"
    }
  },
  "cells": [
    {
      "cell_type": "code",
      "execution_count": 3,
      "metadata": {
        "id": "bAtH7wJrab6Z"
      },
      "outputs": [],
      "source": [
        "import torch\n",
        "from transformers import BartTokenizer, BartForConditionalGeneration\n",
        "\n",
        "# Load pretrained model and tokenizer\n",
        "tokenizer = BartTokenizer.from_pretrained('facebook/bart-large-cnn')\n",
        "model = BartForConditionalGeneration.from_pretrained('facebook/bart-large-cnn')\n",
        "\n",
        "def simplify_text(input_text):\n",
        "    inputs = tokenizer.encode(input_text, return_tensors='pt')\n",
        "\n",
        "    # Generate simplified text\n",
        "    outputs = model.generate(\n",
        "        inputs,\n",
        "        max_length=150,\n",
        "        num_beams=5,\n",
        "        early_stopping=True,\n",
        "        no_repeat_ngram_size=2\n",
        "    )\n",
        "\n",
        "    # Decode and clean up the output\n",
        "    simplified_text = tokenizer.decode(outputs[0], skip_special_tokens=True).replace(\"\\n\", \" \")\n",
        "    return simplified_text\n",
        "\n",
        "\n"
      ]
    },
    {
      "cell_type": "code",
      "source": [
        "# Example\n",
        "complex_concept = \"Blockchain is a distributed ledger technology that underlies cryptocurrencies like Bitcoin.\"\n",
        "\n",
        "# Simplification\n",
        "simplified_concept = simplify_text(complex_concept)\n",
        "print(\"Simplified Concept:\")\n",
        "simplified_concept"
      ],
      "metadata": {
        "colab": {
          "base_uri": "https://localhost:8080/",
          "height": 70
        },
        "id": "3MLqK-sLm74K",
        "outputId": "dcdada07-f0da-41ee-ed63-4d1378dfa4d2"
      },
      "execution_count": 11,
      "outputs": [
        {
          "output_type": "stream",
          "name": "stdout",
          "text": [
            "Simplified Concept:\n"
          ]
        },
        {
          "output_type": "execute_result",
          "data": {
            "text/plain": [
              "\"Blockchain is a distributed ledger technology that underlies cryptocurrencies like Bitcoin. It is used to record transactions on a 'chain' - a record of all data that can be viewed by all parties at the same time. Bitcoin is the most popular cryptocurrency, followed by a number of smaller ones.\""
            ],
            "application/vnd.google.colaboratory.intrinsic+json": {
              "type": "string"
            }
          },
          "metadata": {},
          "execution_count": 11
        }
      ]
    },
    {
      "cell_type": "code",
      "source": [
        "complex_concept_2 = \"Gravity is the force that attracts objects with mass towards each other.\"\n",
        "simplified_concept_2 = simplify_text(complex_concept_2)\n",
        "print(\"Simplified Concept:\")\n",
        "simplified_concept_2"
      ],
      "metadata": {
        "colab": {
          "base_uri": "https://localhost:8080/",
          "height": 70
        },
        "id": "GiGOG9fbGBln",
        "outputId": "a25c8dcb-c13f-4f7e-bbd6-ffb17923b01f"
      },
      "execution_count": 5,
      "outputs": [
        {
          "output_type": "stream",
          "name": "stdout",
          "text": [
            "Simplified Concept:\n"
          ]
        },
        {
          "output_type": "execute_result",
          "data": {
            "text/plain": [
              "'Gravity is the force that attracts objects with mass towards each other. It is also known as the gravitational pull of the Earth. The force is responsible for the formation of planets, moons, stars and other objects in the universe. For more information on Gravity, visit: www.gravitation.org.'"
            ],
            "application/vnd.google.colaboratory.intrinsic+json": {
              "type": "string"
            }
          },
          "metadata": {},
          "execution_count": 5
        }
      ]
    },
    {
      "cell_type": "code",
      "source": [
        "# Example\n",
        "complex_concept3 = \"Quantum mechanics is a branch of physics that deals with the behavior of particles at very small scales.\"\n",
        "simplified_concept3 = simplify_text(complex_concept3)\n",
        "print(\"Simplified Concept:\")\n",
        "simplified_concept3"
      ],
      "metadata": {
        "colab": {
          "base_uri": "https://localhost:8080/",
          "height": 70
        },
        "id": "yjDxU5_iCBJ9",
        "outputId": "6a2e426c-fb5d-45fb-8b4a-aea40dd5dc85"
      },
      "execution_count": 6,
      "outputs": [
        {
          "output_type": "stream",
          "name": "stdout",
          "text": [
            "Simplified Concept:\n"
          ]
        },
        {
          "output_type": "execute_result",
          "data": {
            "text/plain": [
              "'Quantum mechanics is a branch of physics that deals with the behavior of particles at very small scales. It is also known as quantum electrodynamics or quantum entropics. The term \"quantum\" is used to refer to a particular type of particle in quantum mechanics.'"
            ],
            "application/vnd.google.colaboratory.intrinsic+json": {
              "type": "string"
            }
          },
          "metadata": {},
          "execution_count": 6
        }
      ]
    },
    {
      "cell_type": "code",
      "source": [
        "# Example\n",
        "complex_concept4=\"Artificial intelligence refers to the development of computer systems that can perform tasks that normally require human intelligence.\"\n",
        "simplified_concept4 = simplify_text(complex_concept4)\n",
        "print(\"Simplified Concept:\")\n",
        "simplified_concept4"
      ],
      "metadata": {
        "colab": {
          "base_uri": "https://localhost:8080/",
          "height": 87
        },
        "id": "9oqB90DyCQna",
        "outputId": "61fcf9f2-18f8-4d56-b9c3-f0f8fb76174a"
      },
      "execution_count": 7,
      "outputs": [
        {
          "output_type": "stream",
          "name": "stdout",
          "text": [
            "Simplified Concept:\n"
          ]
        },
        {
          "output_type": "execute_result",
          "data": {
            "text/plain": [
              "'Artificial intelligence refers to the development of computer systems that can perform tasks that normally require human intelligence. For more information on artificial intelligence, see Artificial Intelligence: The New Age of the Computer. In the U.S., the National Institute of Standards and Technology (NIST) has a program to train computers to be more intelligent.'"
            ],
            "application/vnd.google.colaboratory.intrinsic+json": {
              "type": "string"
            }
          },
          "metadata": {},
          "execution_count": 7
        }
      ]
    },
    {
      "cell_type": "code",
      "source": [
        "# Example 4: Genetic Engineering\n",
        "complex_concept_6 = \"Genetic engineering involves manipulating an organism's genetic material to modify its characteristics. \"\n",
        "simplified_concept6 = simplify_text(complex_concept_6)\n",
        "print(\"Simplified Concept:\")\n",
        "simplified_concept6"
      ],
      "metadata": {
        "colab": {
          "base_uri": "https://localhost:8080/",
          "height": 70
        },
        "id": "HsUan4KQDg6Q",
        "outputId": "633d5816-c5cc-4476-a55d-f7720d9fb5f5"
      },
      "execution_count": 8,
      "outputs": [
        {
          "output_type": "stream",
          "name": "stdout",
          "text": [
            "Simplified Concept:\n"
          ]
        },
        {
          "output_type": "execute_result",
          "data": {
            "text/plain": [
              "\"Genetic engineering involves manipulating an organism's genetic material to modify its characteristics. It can also be used to create a new species of animal or plant. In the U.S., the National Institutes of Health has approved the use of genetic engineering to improve the health of animals and plants.\""
            ],
            "application/vnd.google.colaboratory.intrinsic+json": {
              "type": "string"
            }
          },
          "metadata": {},
          "execution_count": 8
        }
      ]
    },
    {
      "cell_type": "code",
      "source": [
        "# Example 5: Internet of Things (IoT)\n",
        "complex_concept_7 = \"The Internet of Things refers to a network of physical objects embedded to collect and exchange data.\"\n",
        "simplified_concept_7 = simplify_text(complex_concept_7)\n",
        "print(\"Simplified Concept:\")\n",
        "simplified_concept_7"
      ],
      "metadata": {
        "colab": {
          "base_uri": "https://localhost:8080/",
          "height": 70
        },
        "id": "qfrfdRvNBjIp",
        "outputId": "abec1610-e531-4ea2-bdd4-d26f18428af4"
      },
      "execution_count": 9,
      "outputs": [
        {
          "output_type": "stream",
          "name": "stdout",
          "text": [
            "Simplified Concept:\n"
          ]
        },
        {
          "output_type": "execute_result",
          "data": {
            "text/plain": [
              "'The Internet of Things refers to a network of physical objects embedded to collect and exchange data. It is a growing field of research and development in the fields of robotics and artificial intelligence. The term is also used to refer to devices that can communicate with each other via the Internet.'"
            ],
            "application/vnd.google.colaboratory.intrinsic+json": {
              "type": "string"
            }
          },
          "metadata": {},
          "execution_count": 9
        }
      ]
    }
  ]
}